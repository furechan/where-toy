{
 "cells": [
  {
   "cell_type": "code",
   "execution_count": 1,
   "metadata": {
    "ExecuteTime": {
     "end_time": "2023-12-31T21:29:11.787400Z",
     "start_time": "2023-12-31T21:29:11.778974Z"
    },
    "collapsed": true,
    "pycharm": {
     "name": "#%%\n"
    }
   },
   "outputs": [],
   "source": [
    "import sys\n",
    "import where\n",
    "\n",
    "from pathlib import Path\n",
    "\n",
    "%load_ext nbmask"
   ]
  },
  {
   "cell_type": "code",
   "execution_count": 2,
   "metadata": {
    "ExecuteTime": {
     "end_time": "2023-12-31T21:29:13.134392Z",
     "start_time": "2023-12-31T21:29:13.077737Z"
    },
    "collapsed": false
   },
   "outputs": [],
   "source": [
    "zipfile = Path(\"foo.zip\").resolve(True)\n",
    "sys.path.insert(0, str(zipfile))"
   ]
  },
  {
   "cell_type": "code",
   "execution_count": 3,
   "metadata": {
    "ExecuteTime": {
     "end_time": "2023-12-31T21:29:14.282645Z",
     "start_time": "2023-12-31T21:29:14.260733Z"
    },
    "collapsed": false
   },
   "outputs": [
    {
     "name": "stdout",
     "output_type": "stream",
     "text": [
      "/Users/.../Projects/where-toy/extras/foo.zip/foo/__init__.py\n",
      "/Users/.../Projects/where-toy/extras/foo.zip/foo\n",
      "\n"
     ]
    }
   ],
   "source": [
    "%%masked\n",
    "\n",
    "res = where.where_module(\"foo\")\n"
   ]
  },
  {
   "cell_type": "code",
   "execution_count": 4,
   "metadata": {
    "ExecuteTime": {
     "end_time": "2023-12-31T21:29:20.310339Z",
     "start_time": "2023-12-31T21:29:20.262430Z"
    },
    "collapsed": false
   },
   "outputs": [
    {
     "name": "stdout",
     "output_type": "stream",
     "text": [
      "/Users/.../Projects/where-toy/extras/foo.zip/foo/\n",
      "├── data\n",
      "│   └── sample.csv\n",
      "├── __init__.py\n",
      "└── utils.py\n",
      "\n"
     ]
    }
   ],
   "source": [
    "%%masked\n",
    "\n",
    "res = where.where_module('foo', recurse=True)\n"
   ]
  },
  {
   "cell_type": "code",
   "execution_count": null,
   "metadata": {
    "collapsed": false
   },
   "outputs": [],
   "source": []
  }
 ],
 "metadata": {
  "kernelspec": {
   "display_name": "Python 3",
   "language": "python",
   "name": "python3"
  },
  "language_info": {
   "codemirror_mode": {
    "name": "ipython",
    "version": 3
   },
   "file_extension": ".py",
   "mimetype": "text/x-python",
   "name": "python",
   "nbconvert_exporter": "python",
   "pygments_lexer": "ipython3",
   "version": "3.9.18"
  }
 },
 "nbformat": 4,
 "nbformat_minor": 0
}
