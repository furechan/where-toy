{
 "cells": [
  {
   "cell_type": "code",
   "outputs": [],
   "source": [
    "import sys\n",
    "import where\n",
    "\n",
    "from pathlib import Path\n",
    "\n",
    "%load_ext nbmask"
   ],
   "metadata": {
    "collapsed": true,
    "pycharm": {
     "name": "#%%\n"
    },
    "ExecuteTime": {
     "end_time": "2023-12-31T21:29:11.787400Z",
     "start_time": "2023-12-31T21:29:11.778974Z"
    }
   },
   "execution_count": 1
  },
  {
   "cell_type": "code",
   "execution_count": 2,
   "outputs": [],
   "source": [
    "zipfile = Path(\"foo.zip\").resolve(True)\n",
    "sys.path.insert(0, str(zipfile))"
   ],
   "metadata": {
    "collapsed": false,
    "ExecuteTime": {
     "end_time": "2023-12-31T21:29:13.134392Z",
     "start_time": "2023-12-31T21:29:13.077737Z"
    }
   }
  },
  {
   "cell_type": "code",
   "outputs": [
    {
     "name": "stdout",
     "output_type": "stream",
     "text": [
      "/Users/.../Projects/where-toy/extras/foo.zip/foo/__init__.py\n",
      "/Users/.../Projects/where-toy/extras/foo.zip/foo\n"
     ]
    }
   ],
   "source": [
    "%%masked\n",
    "\n",
    "res = where.where_module(\"foo\")\n"
   ],
   "metadata": {
    "collapsed": false,
    "ExecuteTime": {
     "end_time": "2023-12-31T21:29:14.282645Z",
     "start_time": "2023-12-31T21:29:14.260733Z"
    }
   },
   "execution_count": 3
  },
  {
   "cell_type": "code",
   "outputs": [
    {
     "name": "stdout",
     "output_type": "stream",
     "text": [
      "/Users/.../Projects/where-toy/extras/foo.zip/foo/\n",
      "├── data\n",
      "│   └── sample.csv\n",
      "├── __init__.py\n",
      "└── utils.py\n"
     ]
    }
   ],
   "source": [
    "%%masked\n",
    "\n",
    "res = where.where_module('foo', recurse=True)\n"
   ],
   "metadata": {
    "collapsed": false,
    "ExecuteTime": {
     "end_time": "2023-12-31T21:29:20.310339Z",
     "start_time": "2023-12-31T21:29:20.262430Z"
    }
   },
   "execution_count": 4
  },
  {
   "cell_type": "code",
   "outputs": [],
   "source": [],
   "metadata": {
    "collapsed": false
   }
  }
 ],
 "metadata": {
  "kernelspec": {
   "display_name": "Python 3",
   "language": "python",
   "name": "python3"
  },
  "language_info": {
   "codemirror_mode": {
    "name": "ipython",
    "version": 2
   },
   "file_extension": ".py",
   "mimetype": "text/x-python",
   "name": "python",
   "nbconvert_exporter": "python",
   "pygments_lexer": "ipython2",
   "version": "2.7.6"
  }
 },
 "nbformat": 4,
 "nbformat_minor": 0
}
