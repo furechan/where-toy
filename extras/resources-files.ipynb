{
 "cells": [
  {
   "cell_type": "code",
   "outputs": [],
   "source": [
    "import sys\n",
    "\n",
    "from where.dirtree import print_tree\n",
    "\n",
    "from importlib import resources\n",
    "\n",
    "from pathlib import Path\n",
    "\n",
    "%load_ext nbmask"
   ],
   "metadata": {
    "collapsed": true,
    "pycharm": {
     "name": "#%%\n"
    },
    "ExecuteTime": {
     "end_time": "2023-12-31T21:28:05.217277Z",
     "start_time": "2023-12-31T21:28:05.208010Z"
    }
   },
   "execution_count": 1
  },
  {
   "cell_type": "code",
   "execution_count": 2,
   "outputs": [],
   "source": [
    "zipfile = Path(\"foo.zip\").resolve(True)\n",
    "sys.path.insert(0, str(zipfile))"
   ],
   "metadata": {
    "collapsed": false,
    "ExecuteTime": {
     "end_time": "2023-12-31T21:28:06.004149Z",
     "start_time": "2023-12-31T21:28:05.959487Z"
    }
   }
  },
  {
   "cell_type": "code",
   "outputs": [
    {
     "name": "stdout",
     "output_type": "stream",
     "text": [
      "/Users/.../Projects/where-toy/extras/foo.zip/foo/\n",
      "├── data\n",
      "│   └── sample.csv\n",
      "├── __init__.py\n",
      "└── utils.py\n"
     ]
    }
   ],
   "source": [
    "%%masked\n",
    "\n",
    "foo = resources.files(\"foo\")\n",
    "print_tree(foo)\n"
   ],
   "metadata": {
    "collapsed": false,
    "ExecuteTime": {
     "end_time": "2023-12-31T21:28:07.737687Z",
     "start_time": "2023-12-31T21:28:07.689420Z"
    }
   },
   "execution_count": 3
  },
  {
   "cell_type": "code",
   "outputs": [],
   "source": [],
   "metadata": {
    "collapsed": false
   }
  }
 ],
 "metadata": {
  "kernelspec": {
   "display_name": "Python 3",
   "language": "python",
   "name": "python3"
  },
  "language_info": {
   "codemirror_mode": {
    "name": "ipython",
    "version": 2
   },
   "file_extension": ".py",
   "mimetype": "text/x-python",
   "name": "python",
   "nbconvert_exporter": "python",
   "pygments_lexer": "ipython2",
   "version": "2.7.6"
  }
 },
 "nbformat": 4,
 "nbformat_minor": 0
}
