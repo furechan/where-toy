{
 "cells": [
  {
   "cell_type": "code",
   "execution_count": 1,
   "metadata": {
    "ExecuteTime": {
     "end_time": "2023-12-31T21:28:05.217277Z",
     "start_time": "2023-12-31T21:28:05.208010Z"
    },
    "collapsed": true,
    "pycharm": {
     "name": "#%%\n"
    }
   },
   "outputs": [],
   "source": [
    "import sys\n",
    "\n",
    "from where.dirtree import print_tree\n",
    "\n",
    "from importlib import resources\n",
    "\n",
    "from pathlib import Path\n",
    "\n",
    "import pkgutil\n",
    "\n",
    "%load_ext nbmask"
   ]
  },
  {
   "cell_type": "code",
   "execution_count": 2,
   "metadata": {
    "ExecuteTime": {
     "end_time": "2023-12-31T21:28:06.004149Z",
     "start_time": "2023-12-31T21:28:05.959487Z"
    },
    "collapsed": false
   },
   "outputs": [],
   "source": [
    "zipfile = Path(\"foo.zip\").resolve(True)\n",
    "sys.path.insert(0, str(zipfile))"
   ]
  },
  {
   "cell_type": "code",
   "execution_count": 3,
   "metadata": {
    "ExecuteTime": {
     "end_time": "2023-12-31T21:28:07.737687Z",
     "start_time": "2023-12-31T21:28:07.689420Z"
    },
    "collapsed": false
   },
   "outputs": [
    {
     "name": "stdout",
     "output_type": "stream",
     "text": [
      "/Users/.../Projects/where-toy/extras/foo.zip/foo/\n",
      "├── data\n",
      "│   └── sample.csv\n",
      "├── __init__.py\n",
      "└── utils.py\n",
      "\n"
     ]
    }
   ],
   "source": [
    "%%masked\n",
    "\n",
    "foo = resources.files(\"foo\")\n",
    "print_tree(foo)\n"
   ]
  },
  {
   "cell_type": "code",
   "execution_count": 6,
   "metadata": {
    "collapsed": false
   },
   "outputs": [
    {
     "name": "stdout",
     "output_type": "stream",
     "text": [
      "b'ticker,shares,prices\\nAAAA,100,10.0\\nBBBB,200,20.0\\nCCCC,300,30.0\\n'\n"
     ]
    }
   ],
   "source": [
    "pkgutil.get_data(\"foo\", \"data/sample.csv\")\n"
   ]
  },
  {
   "cell_type": "code",
   "execution_count": null,
   "metadata": {},
   "outputs": [],
   "source": []
  }
 ],
 "metadata": {
  "kernelspec": {
   "display_name": "Python 3",
   "language": "python",
   "name": "python3"
  },
  "language_info": {
   "codemirror_mode": {
    "name": "ipython",
    "version": 3
   },
   "file_extension": ".py",
   "mimetype": "text/x-python",
   "name": "python",
   "nbconvert_exporter": "python",
   "pygments_lexer": "ipython3",
   "version": "3.9.18"
  }
 },
 "nbformat": 4,
 "nbformat_minor": 0
}
