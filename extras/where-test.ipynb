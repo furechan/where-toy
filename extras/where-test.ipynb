{
 "cells": [
  {
   "cell_type": "code",
   "execution_count": 9,
   "metadata": {
    "collapsed": true,
    "pycharm": {
     "name": "#%%\n"
    },
    "ExecuteTime": {
     "end_time": "2023-11-28T23:04:02.664132Z",
     "start_time": "2023-11-28T23:04:02.648990Z"
    }
   },
   "outputs": [
    {
     "name": "stdout",
     "output_type": "stream",
     "text": [
      "The sanitize extension is already loaded. To reload it, use:\n",
      "  %reload_ext sanitize\n"
     ]
    }
   ],
   "source": [
    "import where\n",
    "\n",
    "%load_ext sanitize"
   ]
  },
  {
   "cell_type": "code",
   "execution_count": 10,
   "outputs": [
    {
     "name": "stdout",
     "output_type": "stream",
     "text": [
      ".../Projects/Python/where-toy/src/where/__init__.py\n"
     ]
    }
   ],
   "source": [
    "%%sanitize\n",
    "\n",
    "res = where.where_module('where')\n"
   ],
   "metadata": {
    "collapsed": false,
    "pycharm": {
     "name": "#%%\n"
    },
    "ExecuteTime": {
     "end_time": "2023-11-28T23:04:02.844726Z",
     "start_time": "2023-11-28T23:04:02.831553Z"
    }
   }
  },
  {
   "cell_type": "code",
   "execution_count": 11,
   "outputs": [
    {
     "name": "stdout",
     "output_type": "stream",
     "text": [
      ".../Projects/Python/where-toy/src/where\n",
      "├── __init__.py\n",
      "├── __main__.py\n",
      "├── dirtree.py\n",
      "└── utils.py\n"
     ]
    }
   ],
   "source": [
    "%%sanitize\n",
    "\n",
    "res = where.where_module('where', tree=True)\n"
   ],
   "metadata": {
    "collapsed": false,
    "ExecuteTime": {
     "end_time": "2023-11-28T23:04:03.016191Z",
     "start_time": "2023-11-28T23:04:03.000256Z"
    }
   }
  },
  {
   "cell_type": "code",
   "execution_count": null,
   "outputs": [],
   "source": [],
   "metadata": {
    "collapsed": false
   }
  }
 ],
 "metadata": {
  "kernelspec": {
   "display_name": "Python 3",
   "language": "python",
   "name": "python3"
  },
  "language_info": {
   "codemirror_mode": {
    "name": "ipython",
    "version": 2
   },
   "file_extension": ".py",
   "mimetype": "text/x-python",
   "name": "python",
   "nbconvert_exporter": "python",
   "pygments_lexer": "ipython2",
   "version": "2.7.6"
  }
 },
 "nbformat": 4,
 "nbformat_minor": 0
}
