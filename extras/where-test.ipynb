{
 "cells": [
  {
   "cell_type": "code",
   "execution_count": 1,
   "metadata": {
    "collapsed": true,
    "pycharm": {
     "name": "#%%\n"
    },
    "ExecuteTime": {
     "end_time": "2023-11-28T22:46:50.445931Z",
     "start_time": "2023-11-28T22:46:50.437169Z"
    }
   },
   "outputs": [],
   "source": [
    "import where\n",
    "\n",
    "%load_ext sanitize"
   ]
  },
  {
   "cell_type": "code",
   "execution_count": 2,
   "outputs": [
    {
     "name": "stdout",
     "output_type": "stream",
     "text": [
      ".../Projects/Python/where-toy/src/where/__init__.py\n"
     ]
    }
   ],
   "source": [
    "%%sanitize\n",
    "\n",
    "where.where_module('where')\n"
   ],
   "metadata": {
    "collapsed": false,
    "pycharm": {
     "name": "#%%\n"
    },
    "ExecuteTime": {
     "end_time": "2023-11-28T22:46:51.398820Z",
     "start_time": "2023-11-28T22:46:51.253082Z"
    }
   }
  },
  {
   "cell_type": "code",
   "execution_count": 3,
   "outputs": [
    {
     "name": "stdout",
     "output_type": "stream",
     "text": [
      ".../Projects/Python/where-toy/src/where\n",
      "├── __init__.py\n",
      "├── __main__.py\n",
      "└── utils.py\n"
     ]
    }
   ],
   "source": [
    "%%sanitize\n",
    "\n",
    "where.where_module('where', tree=True)\n"
   ],
   "metadata": {
    "collapsed": false,
    "ExecuteTime": {
     "end_time": "2023-11-28T22:46:52.465235Z",
     "start_time": "2023-11-28T22:46:52.445177Z"
    }
   }
  },
  {
   "cell_type": "code",
   "execution_count": null,
   "outputs": [],
   "source": [],
   "metadata": {
    "collapsed": false
   }
  }
 ],
 "metadata": {
  "kernelspec": {
   "display_name": "Python 3",
   "language": "python",
   "name": "python3"
  },
  "language_info": {
   "codemirror_mode": {
    "name": "ipython",
    "version": 2
   },
   "file_extension": ".py",
   "mimetype": "text/x-python",
   "name": "python",
   "nbconvert_exporter": "python",
   "pygments_lexer": "ipython2",
   "version": "2.7.6"
  }
 },
 "nbformat": 4,
 "nbformat_minor": 0
}
