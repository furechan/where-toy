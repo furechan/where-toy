{
 "cells": [
  {
   "cell_type": "code",
   "execution_count": 3,
   "id": "53975ce3f3b9f593",
   "metadata": {
    "ExecuteTime": {
     "end_time": "2023-12-29T23:03:34.243313Z",
     "start_time": "2023-12-29T23:03:34.236548Z"
    },
    "collapsed": false
   },
   "outputs": [],
   "source": [
    "from zipfile import ZipFile"
   ]
  },
  {
   "cell_type": "code",
   "execution_count": 4,
   "id": "f77335cb4f90afde",
   "metadata": {
    "ExecuteTime": {
     "end_time": "2023-12-29T23:03:34.630703Z",
     "start_time": "2023-12-29T23:03:34.498983Z"
    },
    "collapsed": false
   },
   "outputs": [
    {
     "name": "stdout",
     "output_type": "stream",
     "text": [
      "Archive:  foo.zip\n",
      "  Length      Date    Time    Name\n",
      "---------  ---------- -----   ----\n",
      "        0  01-07-2024 23:12   foo/__init__.py\n",
      "        0  01-07-2024 23:12   foo/utils.py\n",
      "       63  01-07-2024 23:12   foo/data/sample.csv\n",
      "---------                     -------\n",
      "       63                     3 files\n"
     ]
    }
   ],
   "source": [
    "CSVDATA = \"\"\"ticker,shares,prices\n",
    "AAAA,100,10.0\n",
    "BBBB,200,20.0\n",
    "CCCC,300,30.0\n",
    "\"\"\"\n",
    "\n",
    "\n",
    "with ZipFile(\"foo.zip\", mode=\"w\") as zipfile:\n",
    "    zipfile.writestr(\"foo/__init__.py\", \"\")\n",
    "    zipfile.writestr(\"foo/utils.py\", \"\")\n",
    "    zipfile.writestr(\"foo/data/sample.csv\", CSVDATA)\n",
    "\n",
    "!unzip -l foo.zip"
   ]
  },
  {
   "cell_type": "code",
   "execution_count": null,
   "id": "69ef0d5fbe78d797",
   "metadata": {
    "collapsed": false
   },
   "outputs": [],
   "source": []
  },
  {
   "cell_type": "code",
   "execution_count": null,
   "id": "0406eb21",
   "metadata": {},
   "outputs": [],
   "source": []
  }
 ],
 "metadata": {
  "kernelspec": {
   "display_name": "Python 3",
   "language": "python",
   "name": "python3"
  },
  "language_info": {
   "codemirror_mode": {
    "name": "ipython",
    "version": 3
   },
   "file_extension": ".py",
   "mimetype": "text/x-python",
   "name": "python",
   "nbconvert_exporter": "python",
   "pygments_lexer": "ipython3",
   "version": "3.9.18"
  }
 },
 "nbformat": 4,
 "nbformat_minor": 5
}
