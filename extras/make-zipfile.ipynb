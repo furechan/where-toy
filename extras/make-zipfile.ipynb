{
 "cells": [
  {
   "cell_type": "code",
   "outputs": [],
   "source": [
    "from zipfile import ZipFile"
   ],
   "metadata": {
    "collapsed": false,
    "ExecuteTime": {
     "end_time": "2023-12-29T23:03:34.243313Z",
     "start_time": "2023-12-29T23:03:34.236548Z"
    }
   },
   "id": "53975ce3f3b9f593",
   "execution_count": 34
  },
  {
   "cell_type": "code",
   "outputs": [
    {
     "name": "stdout",
     "output_type": "stream",
     "text": [
      "Archive:  foo.zip\r\n",
      "  Length      Date    Time    Name\r\n",
      "---------  ---------- -----   ----\r\n",
      "        0  12-29-2023 18:03   foo/__init__.py\r\n",
      "        0  12-29-2023 18:03   foo/utils.py\r\n",
      "        0  12-29-2023 18:03   foo/data/sample.csv\r\n",
      "---------                     -------\r\n",
      "        0                     3 files\r\n"
     ]
    }
   ],
   "source": [
    "with ZipFile(\"foo.zip\", mode=\"w\") as zipfile:\n",
    "    zipfile.writestr(\"foo/__init__.py\", \"\")\n",
    "    zipfile.writestr(\"foo/utils.py\", \"\")\n",
    "    zipfile.writestr(\"foo/data/sample.csv\", \"\")\n",
    "\n",
    "!unzip -l foo.zip"
   ],
   "metadata": {
    "collapsed": false,
    "ExecuteTime": {
     "end_time": "2023-12-29T23:03:34.630703Z",
     "start_time": "2023-12-29T23:03:34.498983Z"
    }
   },
   "id": "f77335cb4f90afde",
   "execution_count": 35
  },
  {
   "cell_type": "code",
   "outputs": [],
   "source": [],
   "metadata": {
    "collapsed": false
   },
   "id": "69ef0d5fbe78d797"
  }
 ],
 "metadata": {
  "kernelspec": {
   "display_name": "Python 3",
   "language": "python",
   "name": "python3"
  },
  "language_info": {
   "codemirror_mode": {
    "name": "ipython",
    "version": 2
   },
   "file_extension": ".py",
   "mimetype": "text/x-python",
   "name": "python",
   "nbconvert_exporter": "python",
   "pygments_lexer": "ipython2",
   "version": "2.7.6"
  }
 },
 "nbformat": 4,
 "nbformat_minor": 5
}
