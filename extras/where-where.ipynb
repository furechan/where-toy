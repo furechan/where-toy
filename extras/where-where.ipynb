{
 "cells": [
  {
   "cell_type": "code",
   "execution_count": 1,
   "metadata": {
    "ExecuteTime": {
     "end_time": "2023-12-29T23:39:59.889269Z",
     "start_time": "2023-12-29T23:39:59.875884Z"
    },
    "collapsed": true,
    "pycharm": {
     "name": "#%%\n"
    }
   },
   "outputs": [],
   "source": [
    "import where\n",
    "\n",
    "%load_ext nbmask"
   ]
  },
  {
   "cell_type": "code",
   "execution_count": 2,
   "metadata": {
    "ExecuteTime": {
     "end_time": "2023-12-29T23:40:01.252927Z",
     "start_time": "2023-12-29T23:40:01.236136Z"
    },
    "collapsed": false,
    "pycharm": {
     "name": "#%%\n"
    }
   },
   "outputs": [
    {
     "name": "stdout",
     "output_type": "stream",
     "text": [
      "/Users/.../Projects/where-toy/src/where/__init__.py\n"
     ]
    }
   ],
   "source": [
    "%%masked\n",
    "\n",
    "res = where.where_module('where')\n"
   ]
  },
  {
   "cell_type": "code",
   "execution_count": 4,
   "metadata": {
    "ExecuteTime": {
     "end_time": "2023-12-29T23:40:08.793649Z",
     "start_time": "2023-12-29T23:40:08.782663Z"
    },
    "collapsed": false
   },
   "outputs": [
    {
     "name": "stdout",
     "output_type": "stream",
     "text": [
      "/Users/.../Projects/where-toy/src/where\n",
      "├── __init__.py\n",
      "├── __main__.py\n",
      "├── dirtree.py\n",
      "└── utils.py\n"
     ]
    }
   ],
   "source": [
    "%%masked\n",
    "\n",
    "res = where.where_module('where', recurse=True)\n"
   ]
  },
  {
   "cell_type": "code",
   "execution_count": null,
   "metadata": {
    "collapsed": false
   },
   "outputs": [],
   "source": []
  }
 ],
 "metadata": {
  "kernelspec": {
   "display_name": "Python 3",
   "language": "python",
   "name": "python3"
  },
  "language_info": {
   "codemirror_mode": {
    "name": "ipython",
    "version": 2
   },
   "file_extension": ".py",
   "mimetype": "text/x-python",
   "name": "python",
   "nbconvert_exporter": "python",
   "pygments_lexer": "ipython2",
   "version": "2.7.6"
  }
 },
 "nbformat": 4,
 "nbformat_minor": 0
}
