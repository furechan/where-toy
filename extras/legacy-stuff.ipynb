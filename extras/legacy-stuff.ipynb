{
 "cells": [
  {
   "cell_type": "code",
   "execution_count": 1,
   "id": "initial_id",
   "metadata": {
    "ExecuteTime": {
     "end_time": "2023-12-29T23:49:38.279627Z",
     "start_time": "2023-12-29T23:49:38.273671Z"
    },
    "collapsed": true
   },
   "outputs": [],
   "source": [
    "import sys\n",
    "\n",
    "from pathlib import Path\n",
    "\n",
    "\n",
    "def search_path(*patterns):\n",
    "    \"\"\"first file/folder in python path that matches any of the patterns\"\"\"\n",
    "\n",
    "    for folder in sys.path:\n",
    "        folder = Path(folder)\n",
    "        if not folder.is_dir():\n",
    "            continue\n",
    "        for file in Path(folder).iterdir():\n",
    "            if any(file.match(pattern) for pattern in patterns):\n",
    "                return file\n",
    "\n",
    "    return None\n",
    "\n",
    "\n",
    "def search_path_hook(name: str):\n",
    "    return search_path(f\"{name}.pth\", f\"{name}-*.pth\", f\"__editable__.{name}-*.pth\")\n",
    "\n",
    "\n",
    "def search_dist_infp(name: str):\n",
    "    return search_path(f\"{name}-*.dist-info\")"
   ]
  },
  {
   "cell_type": "code",
   "execution_count": null,
   "id": "2a102f8ce03fb0",
   "metadata": {
    "collapsed": false
   },
   "outputs": [],
   "source": []
  }
 ],
 "metadata": {
  "kernelspec": {
   "display_name": "Python 3",
   "language": "python",
   "name": "python3"
  },
  "language_info": {
   "codemirror_mode": {
    "name": "ipython",
    "version": 2
   },
   "file_extension": ".py",
   "mimetype": "text/x-python",
   "name": "python",
   "nbconvert_exporter": "python",
   "pygments_lexer": "ipython2",
   "version": "3.9.18"
  }
 },
 "nbformat": 4,
 "nbformat_minor": 5
}
