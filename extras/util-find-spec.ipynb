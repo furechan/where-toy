{
 "cells": [
  {
   "cell_type": "code",
   "outputs": [
    {
     "name": "stdout",
     "output_type": "stream",
     "text": [
      "The nbmask extension is already loaded. To reload it, use:\n",
      "  %reload_ext nbmask\n"
     ]
    }
   ],
   "source": [
    "import sys\n",
    "\n",
    "from importlib.util import find_spec\n",
    "\n",
    "from pathlib import Path\n",
    "\n",
    "%load_ext nbmask"
   ],
   "metadata": {
    "collapsed": true,
    "pycharm": {
     "name": "#%%\n"
    },
    "ExecuteTime": {
     "end_time": "2023-12-31T21:27:42.812402Z",
     "start_time": "2023-12-31T21:27:42.686238Z"
    }
   },
   "execution_count": 21
  },
  {
   "cell_type": "code",
   "execution_count": 22,
   "outputs": [],
   "source": [
    "zipfile = Path(\"foo.zip\").resolve(True)\n",
    "sys.path.insert(0, str(zipfile))"
   ],
   "metadata": {
    "collapsed": false,
    "ExecuteTime": {
     "end_time": "2023-12-31T21:27:43.093760Z",
     "start_time": "2023-12-31T21:27:43.029415Z"
    }
   }
  },
  {
   "cell_type": "code",
   "outputs": [
    {
     "name": "stdout",
     "output_type": "stream",
     "text": [
      "/Users/.../Projects/where-toy/extras/foo.zip/foo/__init__.py\n",
      "['/Users/.../Projects/where-toy/extras/foo.zip/foo']\n"
     ]
    }
   ],
   "source": [
    "%%masked\n",
    "\n",
    "foo = find_spec(\"foo\")\n",
    "print(foo.origin)\n",
    "print(foo.submodule_search_locations)"
   ],
   "metadata": {
    "collapsed": false,
    "ExecuteTime": {
     "end_time": "2023-12-31T21:27:44.414358Z",
     "start_time": "2023-12-31T21:27:44.367107Z"
    }
   },
   "execution_count": 23
  },
  {
   "cell_type": "code",
   "outputs": [],
   "source": [],
   "metadata": {
    "collapsed": false
   }
  }
 ],
 "metadata": {
  "kernelspec": {
   "display_name": "Python 3",
   "language": "python",
   "name": "python3"
  },
  "language_info": {
   "codemirror_mode": {
    "name": "ipython",
    "version": 2
   },
   "file_extension": ".py",
   "mimetype": "text/x-python",
   "name": "python",
   "nbconvert_exporter": "python",
   "pygments_lexer": "ipython2",
   "version": "2.7.6"
  }
 },
 "nbformat": 4,
 "nbformat_minor": 0
}
