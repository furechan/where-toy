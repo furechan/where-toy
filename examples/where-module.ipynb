{
 "cells": [
  {
   "cell_type": "code",
   "execution_count": 1,
   "metadata": {
    "collapsed": true,
    "pycharm": {
     "name": "#%%\n"
    },
    "ExecuteTime": {
     "end_time": "2023-12-05T18:57:11.886207Z",
     "start_time": "2023-12-05T18:57:11.878577Z"
    }
   },
   "outputs": [],
   "source": [
    "import where\n",
    "\n",
    "%load_ext sanitize"
   ]
  },
  {
   "cell_type": "code",
   "execution_count": 2,
   "outputs": [
    {
     "name": "stdout",
     "output_type": "stream",
     "text": [
      ".../Projects/Python/where-toy/src/where/__init__.py\n"
     ]
    }
   ],
   "source": [
    "%%sanitize\n",
    "\n",
    "res = where.where_module('where')\n"
   ],
   "metadata": {
    "collapsed": false,
    "pycharm": {
     "name": "#%%\n"
    },
    "ExecuteTime": {
     "end_time": "2023-12-05T18:57:12.899327Z",
     "start_time": "2023-12-05T18:57:12.744372Z"
    }
   }
  },
  {
   "cell_type": "code",
   "execution_count": 3,
   "outputs": [
    {
     "name": "stdout",
     "output_type": "stream",
     "text": [
      ".../Projects/Python/where-toy/src/where\n",
      "├── __init__.py\n",
      "├── __main__.py\n",
      "├── dirtree.py\n",
      "└── utils.py\n"
     ]
    }
   ],
   "source": [
    "%%sanitize\n",
    "\n",
    "res = where.where_module('where', tree=True)\n"
   ],
   "metadata": {
    "collapsed": false,
    "ExecuteTime": {
     "end_time": "2023-12-05T18:57:13.805421Z",
     "start_time": "2023-12-05T18:57:13.786205Z"
    }
   }
  },
  {
   "cell_type": "code",
   "execution_count": null,
   "outputs": [],
   "source": [],
   "metadata": {
    "collapsed": false
   }
  }
 ],
 "metadata": {
  "kernelspec": {
   "display_name": "Python 3",
   "language": "python",
   "name": "python3"
  },
  "language_info": {
   "codemirror_mode": {
    "name": "ipython",
    "version": 2
   },
   "file_extension": ".py",
   "mimetype": "text/x-python",
   "name": "python",
   "nbconvert_exporter": "python",
   "pygments_lexer": "ipython2",
   "version": "2.7.6"
  }
 },
 "nbformat": 4,
 "nbformat_minor": 0
}
